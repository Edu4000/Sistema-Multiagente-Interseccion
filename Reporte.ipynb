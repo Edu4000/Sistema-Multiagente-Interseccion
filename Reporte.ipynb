{
 "cells": [
  {
   "cell_type": "markdown",
   "metadata": {},
   "source": [
    "# Reporte 2 - Semaforos Inteligentes\n",
    "\n",
    "En este reporte se busca estudiar un ambiente de intersecciones con semáforos inteligentes a través del cual transitan un número arbitrario de coches a distintas velocidades. Se presume que de este sistema pueda surgir un comportamiento óptimo para que el tráfico de los coches se reduzca los más posible para todos los agentes en comparación al modelo clásico de control de semaforos.\n",
    "\n",
    "## Modelo\n",
    "\n",
    "Para esta simulación en `mesa`, el ambiente contara con dos tipos de agentes diferentes: `CarAgent` y `TrafficLightAgent`. Estos interactuaran en un espacio de tipo `grid` buscando que todos tengan el mejor resultado posible aplicando la siguiente heurística:\n",
    "- Los semáforos darán prioridad a los coches que llegarán a ellos en menos tiempo.\n",
    "- Los coches bajaran su velocidad en caso de tener un coche enfrente suyo o un semaforo rojo."
   ]
  },
  {
   "cell_type": "code",
   "execution_count": 1,
   "metadata": {},
   "outputs": [],
   "source": [
    "import mesa\n",
    "import numpy as np\n",
    "from random import randint, choice"
   ]
  },
  {
   "cell_type": "markdown",
   "metadata": {},
   "source": [
    "### `CarAgent`"
   ]
  },
  {
   "cell_type": "markdown",
   "metadata": {},
   "source": [
    "Este modelo busca simular las características y comportamientos que tiene un carro en las vías de tránsito, como lo son:\n",
    "- Velocidad Maxima - `max_speed`\n",
    "- Velocidad - `speed`\n",
    "- Movimiento - `move()`"
   ]
  },
  {
   "cell_type": "code",
   "execution_count": 6,
   "metadata": {},
   "outputs": [],
   "source": [
    "class CarAgent (mesa.Agent):\n",
    "    def __init__(self, unique_id: int, model: Model, dir) -> None:\n",
    "        super().__init__(unique_id, model)\n",
    "        self.type = 'car'\n",
    "        self.max_speed = 3\n",
    "        self.speed = 3\n",
    "        # 0 : derecha | 1 : izquierda | 2 : abajo | 3 : arriba\n",
    "        self.vect = [(1,0),(-1,0),(0,-1),(0,1)]\n",
    "        self.dir = np.array(self.vect[dir])\n",
    "\n",
    "    def move(self):\n",
    "        self.speed = self.max_speed\n",
    "        grid_size = self.model.grid.width\n",
    "        front_view = [\n",
    "            tuple(np.mod(np.array(self.pos) + self.dir * x, grid_size))\n",
    "            for x in range(1, int(self.max_speed) + 1)\n",
    "        ]\n",
    "\n",
    "        for i in range(len(front_view)):\n",
    "            front = (int(front_view[i][0]), int(front_view[i][1]))\n",
    "            front_agent = self.model.grid.get_cell_list_contents(front)\n",
    "            if (len(front_agent) == 1):\n",
    "                if (front_agent[0].type == \"t_f\" and front_agent[0].status != 'red'):\n",
    "                    self.speed = self.max_speed\n",
    "                elif (i > 1):\n",
    "                    self.speed = 1\n",
    "                else:\n",
    "                    self.speed = 0.01\n",
    "                    return\n",
    "\n",
    "        next_pos = (tuple(np.mod(np.array(self.pos) + self.dir * int(self.speed), grid_size)))\n",
    "                    \n",
    "        self.model.grid.move_agent(self, next_pos)\n",
    "    \n",
    "    def step(self):\n",
    "        self.move()"
   ]
  },
  {
   "cell_type": "markdown",
   "metadata": {},
   "source": [
    "### `TrafficLightAgent`\n",
    "Este modelo crea semaforos con sensores que detectan la velocidad a la que los coches se acercan. Esto les permite a los semaforos de una intersección determinar cual de ellos tendrá la prioridad de tránsito y los otros esperaran."
   ]
  },
  {
   "cell_type": "markdown",
   "metadata": {},
   "source": [
    "- Dirección de Prioridad - `rightToTransit`\n",
    "- Cola de Prioridad - `waitingCars`\n",
    "- Alcance de Visión - `visionRange`"
   ]
  },
  {
   "cell_type": "code",
   "execution_count": 5,
   "metadata": {},
   "outputs": [],
   "source": [
    "class TrafficLightAgent (mesa.Agent):\n",
    "    def __init__(self, unique_id: int, model: Model, group: int, orientation: int, vision) -> None:\n",
    "        super().__init__(unique_id, model)\n",
    "        self.dir = 'up'\n",
    "        self.type = 't_f'\n",
    "        self.status = 'red'\n",
    "        self.local_group = group\n",
    "        self.orientation = orientation # 0 : horizontal | 1 : vertical\n",
    "        self.vision = vision\n",
    "\n",
    "    def setGreenLight(self):\n",
    "        self.status = 'green'\n",
    "        \n",
    "    def setYellowLight(self):\n",
    "        self.status = 'orange'\n",
    "        \n",
    "    def setRedLight(self):\n",
    "        self.status = 'red'\n",
    "\n",
    "    def update_queue(self):\n",
    "        dist = 1\n",
    "        for cell in self.vision:\n",
    "            agent = self.model.grid.get_cell_list_contents(cell)\n",
    "            if (len(agent) == 1):\n",
    "                agent = agent[0]\n",
    "                eta = dist / agent.speed\n",
    "                self.model.priority_queue[self.local_group].append((eta, self.orientation))\n",
    "            else:\n",
    "                pass\n",
    "            dist += 1\n",
    "\n",
    "    def step(self):\n",
    "        if (len(self.model.priority_queue[self.local_group]) == 0):\n",
    "            self.setYellowLight()\n",
    "        elif (self.model.priority_queue[self.local_group][0][1] == self.orientation):\n",
    "            self.setGreenLight()\n",
    "        else:\n",
    "            self.setRedLight()"
   ]
  },
  {
   "cell_type": "markdown",
   "metadata": {},
   "source": [
    "### `Model`"
   ]
  },
  {
   "cell_type": "markdown",
   "metadata": {},
   "source": [
    "El modelo cuenta con el ambiente en el que los agentes se encuentran y para el sistema de semáforos inteligentes el ambiente es __parcialmente visible__ por parte de los agentes. Tanto los agentes carros como los semaforos, tienen la capacidad de ver algunas celdas enfrente suyas para poder actuar como __agentes racionales__, tomando la mejor acción posible en el momento y espacio donde estan.\n",
    "\n",
    "En cada paso del modelo se siguen los siguientes pasos como estratégia de solución:\n",
    "- Los semaforos ven 7 celdas frente suyo buscando coches aproximandoce.\n",
    "- Los semáforos calculan el tiempo estimado en el que cada coche en su visión podría llegar a ellos.\n",
    "- Se ordenan los tiempos de llegado estimado y los semáforos escogen cual vía es la que tendrá el paso.\n",
    "- Los coches avanzan a velocidad máxima en caso de poder hacerlo.\n",
    "    - Si hay algun otro coche o un semáforo rojo, frenaran o se detendrán dependiendo de su distancia.\n",
    "\n",
    "Esta estatégia busca que los coches disminuyan su velocidad en la menor medida posible a la vez que se garantiza que no suceda ningun choque entre los agentes coches. Por otra parte, tambien permite la __negociación entre agentes__ de semáforo para poder determinar cual vía tendría la prioridad de flujo."
   ]
  },
  {
   "cell_type": "code",
   "execution_count": 4,
   "metadata": {},
   "outputs": [],
   "source": [
    "\n",
    "class Model (mesa.Model):\n",
    "\n",
    "    def __init__(self, num_cars, separation, street_size, width, height, run) -> None:\n",
    "        self.num_cars = num_cars\n",
    "        self.separation = separation\n",
    "        self.street_size = street_size\n",
    "        self.run = run\n",
    "        self.timer = [False, 0]\n",
    "        self.vision_range = 7\n",
    "        self.size = (width + 1)*(separation+street_size)\n",
    "        self.priority_queue = []\n",
    "        self.car_spawn = [[],[],[],[]]\n",
    "\n",
    "        # Creating grid\n",
    "        self.grid = mesa.space.MultiGrid(\n",
    "            width=self.size, \n",
    "            height=self.size,\n",
    "            torus=False\n",
    "        )\n",
    "\n",
    "        # Creating schedulers\n",
    "        self.schedule_tf = mesa.time.BaseScheduler(self)\n",
    "        self.schedule_car = mesa.time.RandomActivation(self)\n",
    "\n",
    "        # Creating traffic lights\n",
    "        for i in range(width * height):\n",
    "            self.priority_queue.append([])\n",
    "            intersection = ((int(i/width) + 1) * (separation+street_size) , \n",
    "                            (i%width + 1) * (separation+street_size))\n",
    "            for j in [1, -1]:\n",
    "                center_disp = j + j * self.street_size\n",
    "                for via in range (1, self.street_size+1):\n",
    "                    pos = (intersection[0] + via*j, intersection[1] - center_disp)\n",
    "                    vision = [(pos[0], pos[1] - j * y) for y in range(1, self.vision_range+1)]\n",
    "\n",
    "                    if (j == 1):\n",
    "                        self.car_spawn[3].append(intersection[0] + via*j)\n",
    "                    else:\n",
    "                        self.car_spawn[2].append(intersection[0] + via*j)\n",
    "\n",
    "                    # for cell in vision:\n",
    "                    #     self.grid.place_agent(TrafficLineAgent(f\"{cell}\", self), cell)\n",
    "\n",
    "                    t_f = TrafficLightAgent(f\"t_f_{i}_via_{pos}\", self, i, 0, vision)\n",
    "                    self.schedule_tf.add(t_f)\n",
    "                    self.grid.place_agent(t_f, pos)\n",
    "\n",
    "                    pos = (intersection[0] - center_disp, intersection[1] - via*j)\n",
    "                    vision = [(pos[0] - j * y, pos[1]) for y in range(1, self.vision_range+1)]\n",
    "\n",
    "                    if (j == 1):\n",
    "                        self.car_spawn[0].append(intersection[1] - via*j)\n",
    "                    else:\n",
    "                        self.car_spawn[1].append(intersection[1] - via*j)\n",
    "\n",
    "                    # for cell in vision:\n",
    "                    #     self.grid.place_agent(TrafficLineAgent(f\"{cell}\", self), cell)\n",
    "\n",
    "                    t_f = TrafficLightAgent(f\"t_f_{i}_via_{pos}\", self, i, 1, vision)\n",
    "                    self.schedule_tf.add(t_f)\n",
    "                    self.grid.place_agent(t_f, pos)\n",
    "\n",
    "        # Creating cars\n",
    "        for i in range(self.num_cars):\n",
    "            direction = randint(0,3)\n",
    "            car = CarAgent(f\"car_{i}\", self, direction)\n",
    "            self.schedule_car.add(car)\n",
    "\n",
    "            if (direction == 0):\n",
    "                self.grid.place_agent(car, (randint(0, self.size - 1), choice(self.car_spawn[direction])))\n",
    "            elif (direction == 1):\n",
    "                self.grid.place_agent(car, (randint(0, self.size - 1), choice(self.car_spawn[direction])))\n",
    "            elif (direction == 2):\n",
    "                self.grid.place_agent(car, (choice(self.car_spawn[direction]), randint(0, self.size - 1)))\n",
    "            else:\n",
    "                self.grid.place_agent(car, (choice(self.car_spawn[direction]), randint(0, self.size - 1)))\n",
    "\n",
    "         # self.grid.place_agent(car, (choice(self.car_spawn[direction]), randint(0, self.size - 1)))\n",
    "\n",
    "        # Crating Data Collector\n",
    "        self.data = mesa.DataCollector(\n",
    "            {\n",
    "                \"Average Speed\": Model.average_speed,\n",
    "                \"Perc. Halted Cars\": Model.halt_vehicles,\n",
    "                \"Maximum Speed\": Model.max_speed\n",
    "            }\n",
    "        )\n",
    "\n",
    "    def sort_queue(self):\n",
    "        for local_priority_queue in self.priority_queue:\n",
    "            sorting = True\n",
    "            while sorting:\n",
    "                sorting = False\n",
    "                for i in range(1,len(local_priority_queue)):\n",
    "                    if (local_priority_queue[i-1][0] < local_priority_queue[i][0]):\n",
    "                        aux = local_priority_queue[i-1]\n",
    "                        local_priority_queue[i-1] = local_priority_queue[i]\n",
    "                        local_priority_queue[i] = aux\n",
    "                        sorting = True\n",
    "\n",
    "    def step(self):\n",
    "        if (self.run == 1):\n",
    "            self.priority_queue = [[] for i in range(len(self.priority_queue))]\n",
    "            for tf in self.schedule_tf.agents:\n",
    "                tf.update_queue()\n",
    "            self.sort_queue()\n",
    "            self.schedule_tf.step()\n",
    "        else:\n",
    "            if (self.timer[1] > 5):\n",
    "                self.timer = [not self.timer[0], 0]\n",
    "\n",
    "            if (self.timer[0]):\n",
    "                for tf in self.schedule_tf.agents:\n",
    "                    if (tf.orientation == 0):\n",
    "                        tf.setGreenLight()\n",
    "                    else:\n",
    "                        tf.setRedLight()\n",
    "            else:\n",
    "                for tf in self.schedule_tf.agents:\n",
    "                    if (tf.orientation == 1):\n",
    "                        tf.setGreenLight()\n",
    "                    else:\n",
    "                        tf.setRedLight()\n",
    "            self.timer[1] += 1\n",
    "\n",
    "        self.schedule_car.step()\n",
    "        self.data.collect(self)\n",
    "\n",
    "    @staticmethod\n",
    "    def average_speed(model):\n",
    "        return np.average([agent.speed for agent in model.schedule_car.agents])\n",
    "\n",
    "    @staticmethod\n",
    "    def halt_vehicles(model):\n",
    "        halted_cars = [agent.speed for agent in model.schedule_car.agents].count(3)\n",
    "        return (len(model.schedule_car.agents) - halted_cars) / len(model.schedule_car.agents)\n",
    "    \n",
    "    @staticmethod\n",
    "    def max_speed(model):\n",
    "        return np.max([agent.speed for agent in model.schedule_car.agents])"
   ]
  },
  {
   "cell_type": "markdown",
   "metadata": {},
   "source": [
    "Al ejecutar los modelos, se pueden configurar para tener alguno de los siguientes aspectos.\n",
    "\n",
    "|1 Carril|2 Carriles|3 Carriles|\n",
    "|:--:|:--:|:--:|\n",
    "|![](https://cdn.discordapp.com/attachments/890394722139512892/1044375481266491423/Diagrama.png) | ![](https://cdn.discordapp.com/attachments/890394722139512892/1044375503580180560/Diagrama2.png) | ![](https://cdn.discordapp.com/attachments/890394722139512892/1044375481765605486/Diagrama3.png) |"
   ]
  },
  {
   "cell_type": "markdown",
   "metadata": {},
   "source": [
    "## Resutados"
   ]
  },
  {
   "cell_type": "markdown",
   "metadata": {},
   "source": [
    "### Modelo de Semáforos Inteligentes"
   ]
  },
  {
   "cell_type": "markdown",
   "metadata": {},
   "source": [
    "|<br>|1 Carril|2 Carriles|3 Carriles|\n",
    "|:--:|:--:|:--:|:--:|\n",
    "| 10 Autos | ![](https://cdn.discordapp.com/attachments/1044376326569730178/1044376337177133127/unknown.png) ![](https://media.discordapp.net/attachments/1044376326569730178/1044376465896116274/unknown.png?width=855&height=512) | ![](https://cdn.discordapp.com/attachments/1044376326569730178/1044376671400235128/unknown.png) ![](https://media.discordapp.net/attachments/1044376326569730178/1044376848462790686/unknown.png?width=855&height=512) | ![](https://cdn.discordapp.com/attachments/1044376326569730178/1044377174477639751/unknown.png) ![](https://cdn.discordapp.com/attachments/1044376326569730178/1044377215116255232/unknown.png)|\n",
    "| 20 Autos | ![](https://media.discordapp.net/attachments/1044376326569730178/1044381624319606784/unknown.png) ![](https://cdn.discordapp.com/attachments/1044376326569730178/1044381640840978512/unknown.png) | ![](https://cdn.discordapp.com/attachments/1044376326569730178/1044380343941210213/unknown.png) ![](https://cdn.discordapp.com/attachments/1044376326569730178/1044380313280860181/unknown.png) | ![](https://cdn.discordapp.com/attachments/1044376326569730178/1044377582520508536/unknown.png) ![](https://cdn.discordapp.com/attachments/1044376326569730178/1044377600681853069/unknown.png) |\n",
    "| 30 Autos | ![](https://cdn.discordapp.com/attachments/1044376326569730178/1044383097132691547/unknown.png) ![](https://cdn.discordapp.com/attachments/1044376326569730178/1044383121757454468/unknown.png) | ![](https://cdn.discordapp.com/attachments/1044376326569730178/1044383212857737246/unknown.png) ![](https://cdn.discordapp.com/attachments/1044376326569730178/1044383232633880606/unknown.png) | ![](https://cdn.discordapp.com/attachments/1044376326569730178/1044383553649131570/unknown.png) ![](https://cdn.discordapp.com/attachments/1044376326569730178/1044383573819523093/unknown.png) |\n",
    "| 40 Autos | ![](https://cdn.discordapp.com/attachments/1044376326569730178/1044384076288761957/unknown.png) ![](https://cdn.discordapp.com/attachments/1044376326569730178/1044384097088315412/unknown.png) | ![](https://cdn.discordapp.com/attachments/1044376326569730178/1044384245755428995/unknown.png) ![](https://cdn.discordapp.com/attachments/1044376326569730178/1044384267473522818/unknown.png) | ![](https://cdn.discordapp.com/attachments/1044376326569730178/1044384589340233769/unknown.png) ![](https://cdn.discordapp.com/attachments/1044376326569730178/1044384607354765342/unknown.png) |\n",
    "| 50 Autos | ![](https://cdn.discordapp.com/attachments/1044376326569730178/1044384776871751760/unknown.png) ![](https://cdn.discordapp.com/attachments/1044376326569730178/1044384795146330162/unknown.png) | ![](https://cdn.discordapp.com/attachments/1044376326569730178/1044384907759198319/unknown.png) ![](https://cdn.discordapp.com/attachments/1044376326569730178/1044384924116983930/unknown.png) | ![](https://cdn.discordapp.com/attachments/1044376326569730178/1044385036117479474/unknown.png) ![](https://cdn.discordapp.com/attachments/1044376326569730178/1044385053234438224/unknown.png) |"
   ]
  },
  {
   "cell_type": "markdown",
   "metadata": {},
   "source": [
    "### Modelo de Semáforos Intermitentes"
   ]
  },
  {
   "cell_type": "markdown",
   "metadata": {},
   "source": [
    "|<br>|1 Carril|2 Carriles|3 Carriles|\n",
    "|:--:|:--:|:--:|:--:|\n",
    "| 10 Autos | ![](https://cdn.discordapp.com/attachments/1044376326569730178/1044385236059967509/unknown.png) ![](https://cdn.discordapp.com/attachments/1044376326569730178/1044385254586187776/unknown.png) | ![](https://cdn.discordapp.com/attachments/1044376326569730178/1044385367551377428/unknown.png) ![](https://cdn.discordapp.com/attachments/1044376326569730178/1044385382915133480/unknown.png) | ![](https://cdn.discordapp.com/attachments/1044376326569730178/1044385490784239627/unknown.png) ![](https://cdn.discordapp.com/attachments/1044376326569730178/1044385510958825472/unknown.png) |\n",
    "| 20 Autos | ![](https://cdn.discordapp.com/attachments/1044376326569730178/1044385638755086436/unknown.png) ![](https://cdn.discordapp.com/attachments/1044376326569730178/1044385653263188008/unknown.png) | ![](https://cdn.discordapp.com/attachments/1044376326569730178/1044385763711791244/unknown.png) ![](https://cdn.discordapp.com/attachments/1044376326569730178/1044385782678433882/unknown.png) | ![](https://cdn.discordapp.com/attachments/1044376326569730178/1044385897044529242/unknown.png) ![](https://cdn.discordapp.com/attachments/1044376326569730178/1044385913884643438/unknown.png) |\n",
    "| 30 Autos | ![](https://media.discordapp.net/attachments/1044376326569730178/1044386052267315220/unknown.png) ![](https://media.discordapp.net/attachments/1044376326569730178/1044386068734165082/unknown.png) | ![](https://media.discordapp.net/attachments/1044376326569730178/1044386187688816681/unknown.png) ![](https://media.discordapp.net/attachments/1044376326569730178/1044386204990328832/unknown.png) | ![](https://cdn.discordapp.com/attachments/1044376326569730178/1044386313715073154/unknown.png) ![](https://cdn.discordapp.com/attachments/1044376326569730178/1044386333075968042/unknown.png) |\n",
    "| 40 Autos | ![](https://cdn.discordapp.com/attachments/1044376326569730178/1044386461211963523/unknown.png) ![](https://cdn.discordapp.com/attachments/1044376326569730178/1044386481277505546/unknown.png) | ![](https://cdn.discordapp.com/attachments/1044376326569730178/1044386593504497744/unknown.png) ![](https://cdn.discordapp.com/attachments/1044376326569730178/1044386611670028298/unknown.png) | ![](https://cdn.discordapp.com/attachments/1044376326569730178/1044386720348643368/unknown.png) ![](https://cdn.discordapp.com/attachments/1044376326569730178/1044386735674634311/unknown.png) |\n",
    "| 50 Autos | ![](https://cdn.discordapp.com/attachments/1044376326569730178/1044386870454403082/unknown.png) ![](https://cdn.discordapp.com/attachments/1044376326569730178/1044386887252582460/unknown.png) | ![](https://cdn.discordapp.com/attachments/1044376326569730178/1044386992290545744/unknown.png) ![](https://cdn.discordapp.com/attachments/1044376326569730178/1044387009373949962/unknown.png) | ![](https://cdn.discordapp.com/attachments/1044376326569730178/1044387134435504169/unknown.png) ![](https://cdn.discordapp.com/attachments/1044376326569730178/1044387156665303050/unknown.png) |"
   ]
  },
  {
   "cell_type": "markdown",
   "metadata": {},
   "source": [
    "## Análisis y Conclusiones"
   ]
  },
  {
   "cell_type": "markdown",
   "metadata": {},
   "source": [
    "Por como se pueden observar en las gráficas anteriores, tanto el modelo de semáforos inteligentes como el de semáforos intermitentes tienden a estabilizarse a medida en que los pasos del modelo crecen, aparentemente llegando a un __equilibrio de Nash__ ya que en algunas configuraciónes del modelo, como la __Gráfica X__, la velocidad promedio se mantenía completamente constante. No obstante, es importante recalcar que  si existe una diferencia el margen en el que se estabilizan ambos modelos.\n",
    "\n",
    "Mientras que en el modelo de semáforos intermitentes la velocidad promedio se estabiliza entre 3 y 1.8 (2.4), el modelo de semáforos inteligentes logra estabilizarse entre 3 y 2.4 (2.7). Esto muestra un aumento de aproximadamente 15% en la velocidad promedio de los coches en tránsito, lo cual traducido a resultados en el mundo real, podría implicar una mejor percepción del tráfico y reducción en el estrés de los conductores.\n",
    "\n",
    "Por lo tanto, se podría concluir que los semáforos inteligentes tienen una mejora concreta en el flujo del tráfico en comparación con el modelo de semáforos intermitentes.Esto basandonos en el aumento de velocidad promedio de los coches durante la simulación y la reducción del porcentaje de autos detenidos."
   ]
  },
  {
   "cell_type": "markdown",
   "metadata": {},
   "source": []
  }
 ],
 "metadata": {
  "kernelspec": {
   "display_name": "Python 3 (ipykernel)",
   "language": "python",
   "name": "python3"
  },
  "language_info": {
   "codemirror_mode": {
    "name": "ipython",
    "version": 3
   },
   "file_extension": ".py",
   "mimetype": "text/x-python",
   "name": "python",
   "nbconvert_exporter": "python",
   "pygments_lexer": "ipython3",
   "version": "3.9.12"
  },
  "vscode": {
   "interpreter": {
    "hash": "61cecbef02edb0820112dab7a8d83741db692b00319285d28bc6e2e151a70fb6"
   }
  }
 },
 "nbformat": 4,
 "nbformat_minor": 2
}
